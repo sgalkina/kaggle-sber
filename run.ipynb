{
 "cells": [
  {
   "cell_type": "code",
   "execution_count": 3,
   "metadata": {
    "collapsed": false
   },
   "outputs": [
    {
     "name": "stdout",
     "output_type": "stream",
     "text": [
      "Populating the interactive namespace from numpy and matplotlib\n"
     ]
    }
   ],
   "source": [
    "%pylab inline\n",
    "import pandas as pd\n",
    "import numpy as np"
   ]
  },
  {
   "cell_type": "code",
   "execution_count": 6,
   "metadata": {
    "collapsed": true
   },
   "outputs": [],
   "source": [
    "transactions = pd.read_csv('train.csv')\n",
    "macro = pd.read_csv('macro.csv')\n",
    "test = pd.read_csv('test.csv')"
   ]
  },
  {
   "cell_type": "code",
   "execution_count": 13,
   "metadata": {
    "collapsed": false
   },
   "outputs": [],
   "source": [
    "train = pd.merge(transactions, macro, on='timestamp', how='left')"
   ]
  },
  {
   "cell_type": "code",
   "execution_count": 16,
   "metadata": {
    "collapsed": true
   },
   "outputs": [],
   "source": [
    "test_all = pd.merge(test, macro, on='timestamp', how='left')"
   ]
  },
  {
   "cell_type": "code",
   "execution_count": 26,
   "metadata": {
    "collapsed": false
   },
   "outputs": [
    {
     "data": {
      "text/plain": [
       "((7662, 390), (30471, 391))"
      ]
     },
     "execution_count": 26,
     "metadata": {},
     "output_type": "execute_result"
    }
   ],
   "source": [
    "test_all.shape, train.shape"
   ]
  },
  {
   "cell_type": "markdown",
   "metadata": {},
   "source": [
    "## Feature selection"
   ]
  },
  {
   "cell_type": "code",
   "execution_count": 31,
   "metadata": {
    "collapsed": true
   },
   "outputs": [],
   "source": [
    "from sklearn.ensemble import RandomForestRegressor\n",
    "from sklearn.model_selection import train_test_split"
   ]
  },
  {
   "cell_type": "code",
   "execution_count": 62,
   "metadata": {
    "collapsed": true
   },
   "outputs": [],
   "source": [
    "from sklearn.metrics import accuracy_score, f1_score, precision_score, recall_score, roc_auc_score\n",
    "\n",
    "def classification_metrics(y_test, y_pred):\n",
    "    funcs = dict(\n",
    "        accuracy_score=accuracy_score, \n",
    "        precision_score=precision_score, \n",
    "        recall_score=recall_score,\n",
    "        f1_score=f1_score,\n",
    "        roc_auc_score=roc_auc_score,\n",
    "    )\n",
    "    result = {k: v(y_test, y_pred) for k, v in funcs.items()}\n",
    "    for k, v in result.items():\n",
    "        print(k.title(), v)\n",
    "    return result"
   ]
  },
  {
   "cell_type": "code",
   "execution_count": 63,
   "metadata": {
    "collapsed": true
   },
   "outputs": [],
   "source": [
    "from sklearn.metrics import explained_variance_score, mean_absolute_error, mean_squared_error, median_absolute_error, r2_score\n",
    "\n",
    "def regression_metrics(y_test, y_pred):\n",
    "    funcs = dict(\n",
    "        explained_variance_score=explained_variance_score, \n",
    "        mean_absolute_error=mean_absolute_error, \n",
    "        mean_squared_error=mean_squared_error,\n",
    "        median_absolute_error=median_absolute_error,\n",
    "        r2_score=r2_score,\n",
    "    )\n",
    "    result = {k: v(y_test, y_pred) for k, v in funcs.items()}\n",
    "    for k, v in result.items():\n",
    "        print(k.title(), v)\n",
    "    return result"
   ]
  },
  {
   "cell_type": "code",
   "execution_count": 75,
   "metadata": {
    "collapsed": true
   },
   "outputs": [
    {
     "name": "stderr",
     "output_type": "stream",
     "text": [
      "/usr/local/lib/python3.6/site-packages/ipykernel/__main__.py:2: SettingWithCopyWarning: \n",
      "A value is trying to be set on a copy of a slice from a DataFrame\n",
      "\n",
      "See the caveats in the documentation: http://pandas.pydata.org/pandas-docs/stable/indexing.html#indexing-view-versus-copy\n",
      "  from ipykernel import kernelapp as app\n"
     ]
    }
   ],
   "source": [
    "numerical_only = train.select_dtypes(exclude=['object'])\n",
    "numerical_only.replace(to_replace=NaN, value=-1, inplace=True)"
   ]
  },
  {
   "cell_type": "code",
   "execution_count": 76,
   "metadata": {
    "collapsed": false
   },
   "outputs": [],
   "source": [
    "X, y = numerical_only[list(set(numerical_only.columns) - {'price_doc'})], numerical_only['price_doc']"
   ]
  },
  {
   "cell_type": "code",
   "execution_count": 78,
   "metadata": {
    "collapsed": false
   },
   "outputs": [],
   "source": [
    "X_train, X_test, y_train, y_test = train_test_split(X, y, train_size=0.25, random_state=42)\n",
    "clf = RandomForestRegressor()\n",
    "clf.fit(X_train, y_train)\n",
    "y_pred = clf.predict(X_test)"
   ]
  },
  {
   "cell_type": "code",
   "execution_count": 88,
   "metadata": {
    "collapsed": false
   },
   "outputs": [
    {
     "name": "stdout",
     "output_type": "stream",
     "text": [
      "Explained_Variance_Score 0.604661806257\n",
      "Mean_Absolute_Error 1582215.11461\n",
      "Mean_Squared_Error 9.3153513783e+12\n",
      "Median_Absolute_Error 747000.0\n",
      "R2_Score 0.604111322614\n"
     ]
    }
   ],
   "source": [
    "m = regression_metrics(y_test, y_pred)"
   ]
  },
  {
   "cell_type": "code",
   "execution_count": 84,
   "metadata": {
    "collapsed": false
   },
   "outputs": [],
   "source": [
    "ranking = sorted(zip(X.columns, clf.feature_importances_), key=lambda x: -x[1])"
   ]
  },
  {
   "cell_type": "code",
   "execution_count": 89,
   "metadata": {
    "collapsed": false
   },
   "outputs": [
    {
     "name": "stdout",
     "output_type": "stream",
     "text": [
      "full_sq 0.395262016644\n",
      "cafe_count_3000 0.0490838723961\n",
      "nuclear_reactor_km 0.0187570344698\n",
      "office_sqm_5000 0.0183306367857\n",
      "cafe_count_3000_price_2500 0.0181813554288\n",
      "cafe_count_5000_price_2500 0.0157776434302\n",
      "sport_count_3000 0.0146928084855\n",
      "theater_km 0.0138408473061\n",
      "radiation_km 0.0130450630135\n",
      "cafe_count_5000_price_high 0.0115623379061\n",
      "hospital_beds_raion 0.0097537453267\n",
      "church_count_5000 0.0093421863211\n",
      "cafe_count_5000_price_4000 0.00826254565741\n",
      "stadium_km 0.00768139468416\n",
      "ttk_km 0.00767870873112\n",
      "micex_cbi_tr 0.00758966149587\n",
      "cafe_count_2000 0.00659786292806\n",
      "rts 0.00592712968395\n",
      "kindergarten_km 0.00519559872362\n",
      "micex_rgbi_tr 0.00513827195788\n",
      "floor 0.00512338831071\n",
      "swim_pool_km 0.00509232207152\n",
      "big_church_km 0.00504610726838\n",
      "railroad_station_avto_km 0.00466974692631\n",
      "public_healthcare_km 0.00455336307724\n",
      "brent 0.00455257018678\n",
      "zd_vokzaly_avto_km 0.00446350074313\n",
      "usdrub 0.00442157252668\n",
      "cafe_count_1000 0.00431675609973\n",
      "state 0.00415452791582\n"
     ]
    }
   ],
   "source": [
    "for f, v in ranking[:30]:\n",
    "    print(f, v)"
   ]
  },
  {
   "cell_type": "markdown",
   "metadata": {},
   "source": [
    "Total area in square meters is being the most important feature with huge gap (not surprised)"
   ]
  },
  {
   "cell_type": "code",
   "execution_count": null,
   "metadata": {
    "collapsed": true
   },
   "outputs": [],
   "source": []
  }
 ],
 "metadata": {
  "kernelspec": {
   "display_name": "Python 3",
   "language": "python",
   "name": "python3"
  },
  "language_info": {
   "codemirror_mode": {
    "name": "ipython",
    "version": 3
   },
   "file_extension": ".py",
   "mimetype": "text/x-python",
   "name": "python",
   "nbconvert_exporter": "python",
   "pygments_lexer": "ipython3",
   "version": "3.6.0"
  }
 },
 "nbformat": 4,
 "nbformat_minor": 2
}
